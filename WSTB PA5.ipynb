{
 "cells": [
  {
   "cell_type": "code",
   "execution_count": 8,
   "metadata": {},
   "outputs": [
    {
     "name": "stdout",
     "output_type": "stream",
     "text": [
      "Please enter the word you wish to translate'('Type 0 to quit')': one\n",
      "The german word for one is ein .\n",
      "Please enter the word you wish to translate'('Type 0 to quit')': two\n",
      "The german word for two is zwei .\n",
      "Please enter the word you wish to translate'('Type 0 to quit')': three\n",
      "The german word for three is drei .\n",
      "Please enter the word you wish to translate'('Type 0 to quit')': 0\n",
      "0 is not an available word.\n"
     ]
    },
    {
     "ename": "KeyboardInterrupt",
     "evalue": "Interrupted by user",
     "output_type": "error",
     "traceback": [
      "\u001b[1;31m---------------------------------------------------------------------------\u001b[0m",
      "\u001b[1;31mKeyboardInterrupt\u001b[0m                         Traceback (most recent call last)",
      "\u001b[1;32m<ipython-input-8-9afdbed3074e>\u001b[0m in \u001b[0;36m<module>\u001b[1;34m\u001b[0m\n\u001b[0;32m     57\u001b[0m         \u001b[1;32mif\u001b[0m \u001b[0mx\u001b[0m \u001b[1;33m!=\u001b[0m \u001b[1;36m0\u001b[0m\u001b[1;33m:\u001b[0m\u001b[1;33m\u001b[0m\u001b[1;33m\u001b[0m\u001b[0m\n\u001b[0;32m     58\u001b[0m             \u001b[0mprint\u001b[0m\u001b[1;33m(\u001b[0m\u001b[0mx\u001b[0m\u001b[1;33m,\u001b[0m \u001b[1;34m\"is not an available word.\"\u001b[0m\u001b[1;33m)\u001b[0m\u001b[1;33m\u001b[0m\u001b[1;33m\u001b[0m\u001b[0m\n\u001b[1;32m---> 59\u001b[1;33m             \u001b[0mx\u001b[0m\u001b[1;33m=\u001b[0m\u001b[0minput\u001b[0m\u001b[1;33m(\u001b[0m\u001b[1;34m\"Please enter the word you wish to translate'('Type 0 to quit')': \"\u001b[0m\u001b[1;33m)\u001b[0m\u001b[1;33m\u001b[0m\u001b[1;33m\u001b[0m\u001b[0m\n\u001b[0m",
      "\u001b[1;32m~\\anaconda3\\lib\\site-packages\\ipykernel\\kernelbase.py\u001b[0m in \u001b[0;36mraw_input\u001b[1;34m(self, prompt)\u001b[0m\n\u001b[0;32m    858\u001b[0m                 \u001b[1;34m\"raw_input was called, but this frontend does not support input requests.\"\u001b[0m\u001b[1;33m\u001b[0m\u001b[1;33m\u001b[0m\u001b[0m\n\u001b[0;32m    859\u001b[0m             )\n\u001b[1;32m--> 860\u001b[1;33m         return self._input_request(str(prompt),\n\u001b[0m\u001b[0;32m    861\u001b[0m             \u001b[0mself\u001b[0m\u001b[1;33m.\u001b[0m\u001b[0m_parent_ident\u001b[0m\u001b[1;33m,\u001b[0m\u001b[1;33m\u001b[0m\u001b[1;33m\u001b[0m\u001b[0m\n\u001b[0;32m    862\u001b[0m             \u001b[0mself\u001b[0m\u001b[1;33m.\u001b[0m\u001b[0m_parent_header\u001b[0m\u001b[1;33m,\u001b[0m\u001b[1;33m\u001b[0m\u001b[1;33m\u001b[0m\u001b[0m\n",
      "\u001b[1;32m~\\anaconda3\\lib\\site-packages\\ipykernel\\kernelbase.py\u001b[0m in \u001b[0;36m_input_request\u001b[1;34m(self, prompt, ident, parent, password)\u001b[0m\n\u001b[0;32m    902\u001b[0m             \u001b[1;32mexcept\u001b[0m \u001b[0mKeyboardInterrupt\u001b[0m\u001b[1;33m:\u001b[0m\u001b[1;33m\u001b[0m\u001b[1;33m\u001b[0m\u001b[0m\n\u001b[0;32m    903\u001b[0m                 \u001b[1;31m# re-raise KeyboardInterrupt, to truncate traceback\u001b[0m\u001b[1;33m\u001b[0m\u001b[1;33m\u001b[0m\u001b[1;33m\u001b[0m\u001b[0m\n\u001b[1;32m--> 904\u001b[1;33m                 \u001b[1;32mraise\u001b[0m \u001b[0mKeyboardInterrupt\u001b[0m\u001b[1;33m(\u001b[0m\u001b[1;34m\"Interrupted by user\"\u001b[0m\u001b[1;33m)\u001b[0m \u001b[1;32mfrom\u001b[0m \u001b[1;32mNone\u001b[0m\u001b[1;33m\u001b[0m\u001b[1;33m\u001b[0m\u001b[0m\n\u001b[0m\u001b[0;32m    905\u001b[0m             \u001b[1;32mexcept\u001b[0m \u001b[0mException\u001b[0m \u001b[1;32mas\u001b[0m \u001b[0me\u001b[0m\u001b[1;33m:\u001b[0m\u001b[1;33m\u001b[0m\u001b[1;33m\u001b[0m\u001b[0m\n\u001b[0;32m    906\u001b[0m                 \u001b[0mself\u001b[0m\u001b[1;33m.\u001b[0m\u001b[0mlog\u001b[0m\u001b[1;33m.\u001b[0m\u001b[0mwarning\u001b[0m\u001b[1;33m(\u001b[0m\u001b[1;34m\"Invalid Message:\"\u001b[0m\u001b[1;33m,\u001b[0m \u001b[0mexc_info\u001b[0m\u001b[1;33m=\u001b[0m\u001b[1;32mTrue\u001b[0m\u001b[1;33m)\u001b[0m\u001b[1;33m\u001b[0m\u001b[1;33m\u001b[0m\u001b[0m\n",
      "\u001b[1;31mKeyboardInterrupt\u001b[0m: Interrupted by user"
     ]
    }
   ],
   "source": [
    "dic = {\"zero\": \"null\",\n",
    "       \"one\": \"ein\",\n",
    "       \"two\": \"zwei\",\n",
    "       \"three\": \"drei\",\n",
    "       \"four\": \"vier\",\n",
    "        \"five\": \"funf\",\n",
    "       \"six\": \"sechs\",\n",
    "       \"seven\": \"seiben\",\n",
    "       \"eight\": \"acht\",\n",
    "       \"nine\": \"nuen\",\n",
    "       \"ten\": \"zehn\",\n",
    "       \"eleven\": \"elf\",\n",
    "       \"twelve\": \"zwolf\",\n",
    "       \"thirteen\": \"dreizehn\",\n",
    "       \"fourteen\": \"vierzehn\",\n",
    "       \"fifteen\": \"funfzehn\",\n",
    "       \"sixteen\": \"sechszehn\",\n",
    "       \"seventeen\": \"seibzehn\",\n",
    "       \"eighteen\": \"achtzehn\",\n",
    "       \"nineteen\": \"nuenzehn\",\n",
    "       \"twenty\": \"zwanzig\"\n",
    "      }\n",
    "terms = (\"zero\",\n",
    "       \"one\",\n",
    "       \"two\",\n",
    "       \"three\",\n",
    "       \"four\",\n",
    "        \"five\",\n",
    "       \"six\",\n",
    "       \"seven\",\n",
    "       \"eight\",\n",
    "       \"nine\",\n",
    "       \"ten\",\n",
    "       \"eleven\",\n",
    "       \"twelve\",\n",
    "       \"thirteen\",\n",
    "       \"fourteen\",\n",
    "       \"fifteen\",\n",
    "       \"sixteen\",\n",
    "       \"seventeen\",\n",
    "       \"eighteen\",\n",
    "       \"nineteen\",\n",
    "       \"twenty\")\n",
    "\n",
    "x=input(\"Please enter the word you wish to translate'('Type 0 to quit')': \")\n",
    "while x == 0:\n",
    "    print(\"Thank you for using this dictionary.\")\n",
    "while x != 0:\n",
    "    if x in terms:\n",
    "        print(\"The german word for\", x, \"is\", dic[(x)],\".\")\n",
    "        x=input(\"Please enter the word you wish to translate'('Type 0 to quit')': \")\n",
    "        while x == 0:\n",
    "            print(\"Thank you for using this dictionary.\")\n",
    "    else:\n",
    "        if x == 0:\n",
    "            print(\"Thank you for using this dictionary.\")\n",
    "        if x != 0:\n",
    "            print(x, \"is not an available word.\")\n",
    "            x=input(\"Please enter the word you wish to translate'('Type 0 to quit')': \")\n"
   ]
  },
  {
   "cell_type": "code",
   "execution_count": 1,
   "metadata": {},
   "outputs": [],
   "source": [
    "classes = {\"bard\", \"cleric\", \"druid\", \"fighter\", \"monk\", \"paladin\"}\n",
    "bard = [('Hit Die', 'd8'),('Primary Ability', 'Charisma'),\n",
    "        ('Saves', 'Dexterity and Charisma'), 'An inspiring magician whose power echoes the music of creation']\n",
    "cleric = [('Hit Die', 'd8'),('Primary Ability', 'Wisdom'),\n",
    "         ('Saves', 'Wisdom and Charisma'), 'A preistly champion who wields divine magic in service of a higher power']\n",
    "druid = [('Hit Die', 'd8'),('Primary Ability', 'Wisdom'),\n",
    "        ('Saves', 'Intelligence and Wisdom'), 'A priest of the old faith, wielding the powers of nature and adopting animal forms']\n",
    "fighter = [('Hit Die', 'd10'),('Primary Ability', 'Strength and Dexterity'),\n",
    "        ('Saves', 'Strength and Constitution'), 'A master of martial combat, skilled with a variety of weapons and armor']\n",
    "monk = [('Hit Die', 'd8'),('Primary Ability', 'Dexterity and Wisdom'),\n",
    "        ('Saves', 'Strength and Dexterity'), 'A master of martial arts, harnessing the power of the body in pursuit of physical and spiritual perfection']\n",
    "paladin = [('Hit Die', 'd10'),('Primary Ability', 'Strength and Charisma'),\n",
    "        ('Saves', 'Wisdom and Charisma'), 'A holy warrior bound to a sacred oath']"
   ]
  },
  {
   "cell_type": "code",
   "execution_count": null,
   "metadata": {},
   "outputs": [],
   "source": []
  }
 ],
 "metadata": {
  "kernelspec": {
   "display_name": "Python 3",
   "language": "python",
   "name": "python3"
  },
  "language_info": {
   "codemirror_mode": {
    "name": "ipython",
    "version": 3
   },
   "file_extension": ".py",
   "mimetype": "text/x-python",
   "name": "python",
   "nbconvert_exporter": "python",
   "pygments_lexer": "ipython3",
   "version": "3.8.3"
  }
 },
 "nbformat": 4,
 "nbformat_minor": 4
}
